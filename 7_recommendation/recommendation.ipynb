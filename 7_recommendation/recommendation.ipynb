{
 "cells": [
  {
   "cell_type": "markdown",
   "source": [
    "##### Data の概要\n",
    "この Data は、EC mall の Tmall の閲覧履歴。\n",
    "- 期間: 2015年07月01日 ~ 2015年07月08日までの８日間の Data.\n",
    "- User数: 約３万人\n",
    "- 期間内に閲覧された商品数: 約９万点\n",
    "- User あたりの閲覧数: おおよそ５回\n",
    "- 商品あたりの閲覧数: おおよそ２回"
   ],
   "metadata": {
    "collapsed": false,
    "pycharm": {
     "name": "#%% md\n"
    }
   }
  },
  {
   "cell_type": "code",
   "execution_count": 2,
   "outputs": [
    {
     "name": "stdout",
     "output_type": "stream",
     "text": [
      "(325908, 3)\n"
     ]
    },
    {
     "data": {
      "text/plain": "   user_id  item_id       date\n0        4   205587 2015-07-04\n1        4   748683 2015-07-04\n2        4   790055 2015-07-04\n3        4   790055 2015-07-04\n4        4   764638 2015-07-04",
      "text/html": "<div>\n<style scoped>\n    .dataframe tbody tr th:only-of-type {\n        vertical-align: middle;\n    }\n\n    .dataframe tbody tr th {\n        vertical-align: top;\n    }\n\n    .dataframe thead th {\n        text-align: right;\n    }\n</style>\n<table border=\"1\" class=\"dataframe\">\n  <thead>\n    <tr style=\"text-align: right;\">\n      <th></th>\n      <th>user_id</th>\n      <th>item_id</th>\n      <th>date</th>\n    </tr>\n  </thead>\n  <tbody>\n    <tr>\n      <th>0</th>\n      <td>4</td>\n      <td>205587</td>\n      <td>2015-07-04</td>\n    </tr>\n    <tr>\n      <th>1</th>\n      <td>4</td>\n      <td>748683</td>\n      <td>2015-07-04</td>\n    </tr>\n    <tr>\n      <th>2</th>\n      <td>4</td>\n      <td>790055</td>\n      <td>2015-07-04</td>\n    </tr>\n    <tr>\n      <th>3</th>\n      <td>4</td>\n      <td>790055</td>\n      <td>2015-07-04</td>\n    </tr>\n    <tr>\n      <th>4</th>\n      <td>4</td>\n      <td>764638</td>\n      <td>2015-07-04</td>\n    </tr>\n  </tbody>\n</table>\n</div>"
     },
     "execution_count": 2,
     "metadata": {},
     "output_type": "execute_result"
    }
   ],
   "source": [
    "import pandas as pd\n",
    "\n",
    "log_df = pd.read_csv('access_log.csv', parse_dates=['date'])\n",
    "print(log_df.shape)\n",
    "log_df.head()"
   ],
   "metadata": {
    "collapsed": false,
    "pycharm": {
     "name": "#%%\n"
    }
   }
  },
  {
   "cell_type": "markdown",
   "source": [
    "Column:\n",
    "- User_id: User の Unique ID で、正の整数値をとる\n",
    "- item_id: 商品の Unique ID で、正の整数値をとる\n",
    "- date: User が商品を閲覧した日付。yyyy-mm-dd の形式をとる。"
   ],
   "metadata": {
    "collapsed": false,
    "pycharm": {
     "name": "#%% md\n"
    }
   }
  },
  {
   "cell_type": "code",
   "execution_count": 3,
   "outputs": [
    {
     "data": {
      "text/plain": "count    31443.000000\nmean        10.365042\nstd         16.023399\nmin          2.000000\n25%          3.000000\n50%          5.000000\n75%         11.000000\nmax        632.000000\nName: user_id, dtype: float64"
     },
     "execution_count": 3,
     "metadata": {},
     "output_type": "execute_result"
    }
   ],
   "source": [
    "# User が期間内でどのくらい商品を閲覧を知るために User の商品の閲覧数の分布を確認\n",
    "log_df['user_id'].value_counts().describe()"
   ],
   "metadata": {
    "collapsed": false,
    "pycharm": {
     "name": "#%%\n"
    }
   }
  },
  {
   "cell_type": "code",
   "execution_count": 4,
   "outputs": [
    {
     "data": {
      "text/plain": "<AxesSubplot:>"
     },
     "execution_count": 4,
     "metadata": {},
     "output_type": "execute_result"
    },
    {
     "data": {
      "text/plain": "<Figure size 432x288 with 1 Axes>",
      "image/png": "[encoded data removed]"
     },
     "metadata": {
      "needs_background": "light"
     },
     "output_type": "display_data"
    }
   ],
   "source": [
    "log_df['user_id'].value_counts().hist()"
   ],
   "metadata": {
    "collapsed": false,
    "pycharm": {
     "name": "#%%\n"
    }
   }
  },
  {
   "cell_type": "markdown",
   "source": [
    "- count から Unique user 数\n",
    "- mean から平均閲覧数\n",
    "- 50% から商品閲覧数の中央値\n",
    "\n",
    "が確認とれる。\n",
    "最大で 632 回商品を閲覧している Heavy user もいるため、平均値と中央値に大きなズレが生じている。"
   ],
   "metadata": {
    "collapsed": false,
    "pycharm": {
     "name": "#%% md\n"
    }
   }
  },
  {
   "cell_type": "code",
   "execution_count": 5,
   "outputs": [
    {
     "data": {
      "text/plain": "count    87611.000000\nmean         3.719944\nstd          8.802572\nmin          1.000000\n25%          1.000000\n50%          2.000000\n75%          3.000000\nmax        941.000000\nName: item_id, dtype: float64"
     },
     "execution_count": 5,
     "metadata": {},
     "output_type": "execute_result"
    }
   ],
   "source": [
    "# 商品が期間内でどのくらい User に閲覧されているかを知るために、商品を閲覧した User 数の分布を確認\n",
    "log_df['item_id'].value_counts().describe()"
   ],
   "metadata": {
    "collapsed": false,
    "pycharm": {
     "name": "#%%\n"
    }
   }
  },
  {
   "cell_type": "code",
   "execution_count": 6,
   "outputs": [
    {
     "data": {
      "text/plain": "<AxesSubplot:>"
     },
     "execution_count": 6,
     "metadata": {},
     "output_type": "execute_result"
    },
    {
     "data": {
      "text/plain": "<Figure size 432x288 with 1 Axes>",
      "image/png": "[encoded data removed]"
     },
     "metadata": {
      "needs_background": "light"
     },
     "output_type": "display_data"
    }
   ],
   "source": [
    "log_df['item_id'].value_counts().hist()"
   ],
   "metadata": {
    "collapsed": false,
    "pycharm": {
     "name": "#%%\n"
    }
   }
  },
  {
   "cell_type": "markdown",
   "source": [
    "- count から商品数\n",
    "- mean から１商品あたりの閲覧数の平均\n",
    "- 50% から１商品あたりの閲覧数の中央値\n",
    "\n",
    "が確認とれる。\n",
    "最大で 941 回、閲覧されている人気商品があることが確認とれる。"
   ],
   "metadata": {
    "collapsed": false,
    "pycharm": {
     "name": "#%% md\n"
    }
   }
  },
  {
   "cell_type": "code",
   "execution_count": 7,
   "outputs": [
    {
     "data": {
      "text/plain": "2015-07-03    45441\n2015-07-02    45394\n2015-07-01    44163\n2015-07-04    43804\n2015-07-08    39933\n2015-07-05    39932\n2015-07-07    33930\n2015-07-06    33311\nName: date, dtype: int64"
     },
     "execution_count": 7,
     "metadata": {},
     "output_type": "execute_result"
    }
   ],
   "source": [
    "# 閲覧履歴の期間とその商品閲覧数のばらつきを確認\n",
    "log_df['date'].value_counts()"
   ],
   "metadata": {
    "collapsed": false,
    "pycharm": {
     "name": "#%%\n"
    }
   }
  },
  {
   "cell_type": "code",
   "execution_count": 8,
   "outputs": [
    {
     "data": {
      "text/plain": "<AxesSubplot:>"
     },
     "execution_count": 8,
     "metadata": {},
     "output_type": "execute_result"
    },
    {
     "data": {
      "text/plain": "<Figure size 432x288 with 1 Axes>",
      "image/png": "[encoded data removed]"
     },
     "metadata": {
      "needs_background": "light"
     },
     "output_type": "display_data"
    }
   ],
   "source": [
    "log_df['date'].hist(bins=8)"
   ],
   "metadata": {
    "collapsed": false,
    "pycharm": {
     "name": "#%%\n"
    }
   }
  },
  {
   "cell_type": "markdown",
   "source": [
    "#### Data の性質\n",
    "- Recency に関する単調性: User は最近閲覧した商品ほど興味がある。\n",
    "- Frequency に関する単調性: User は何度も閲覧した商品ほど興味がある。\n",
    "\n",
    "取り扱う Data に上記の仮説が成り立つか確認する。\n",
    "\n",
    "User の再閲覧確率を求めるために、2015年07月01日 ~ 2015年07月07日までの閲覧履歴をもとに07月08日に再閲覧する確率を集計して求める。"
   ],
   "metadata": {
    "collapsed": false,
    "pycharm": {
     "name": "#%% md\n"
    }
   }
  },
  {
   "cell_type": "markdown",
   "source": [
    "2015年07月01日から07月07日までの閲覧履歴の Data と07月08日に閲覧された商品の Data を分離"
   ],
   "metadata": {
    "collapsed": false,
    "pycharm": {
     "name": "#%% md\n"
    }
   }
  },
  {
   "cell_type": "code",
   "execution_count": 9,
   "outputs": [],
   "source": [
    "import datetime\n",
    "\n",
    "start_date = datetime.datetime(2015, 7, 1)\n",
    "end_date = datetime.datetime(2015, 7, 7)\n",
    "target_date = datetime.datetime(2015, 7, 8)"
   ],
   "metadata": {
    "collapsed": false,
    "pycharm": {
     "name": "#%%\n"
    }
   }
  },
  {
   "cell_type": "code",
   "execution_count": 10,
   "outputs": [
    {
     "name": "stdout",
     "output_type": "stream",
     "text": [
      "(285975, 3)\n"
     ]
    },
    {
     "data": {
      "text/plain": "   user_id  item_id       date\n0        4   205587 2015-07-04\n1        4   748683 2015-07-04\n2        4   790055 2015-07-04",
      "text/html": "<div>\n<style scoped>\n    .dataframe tbody tr th:only-of-type {\n        vertical-align: middle;\n    }\n\n    .dataframe tbody tr th {\n        vertical-align: top;\n    }\n\n    .dataframe thead th {\n        text-align: right;\n    }\n</style>\n<table border=\"1\" class=\"dataframe\">\n  <thead>\n    <tr style=\"text-align: right;\">\n      <th></th>\n      <th>user_id</th>\n      <th>item_id</th>\n      <th>date</th>\n    </tr>\n  </thead>\n  <tbody>\n    <tr>\n      <th>0</th>\n      <td>4</td>\n      <td>205587</td>\n      <td>2015-07-04</td>\n    </tr>\n    <tr>\n      <th>1</th>\n      <td>4</td>\n      <td>748683</td>\n      <td>2015-07-04</td>\n    </tr>\n    <tr>\n      <th>2</th>\n      <td>4</td>\n      <td>790055</td>\n      <td>2015-07-04</td>\n    </tr>\n  </tbody>\n</table>\n</div>"
     },
     "execution_count": 10,
     "metadata": {},
     "output_type": "execute_result"
    }
   ],
   "source": [
    "# 2015年07月01日から07月07日までの閲覧履歴 Data を抽出\n",
    "x_df = log_df[\n",
    "    (start_date <= log_df['date'])\n",
    "    & (log_df['date'] <= end_date)\n",
    "    ]\n",
    "print(x_df.shape)\n",
    "x_df.head(3)"
   ],
   "metadata": {
    "collapsed": false,
    "pycharm": {
     "name": "#%%\n"
    }
   }
  },
  {
   "cell_type": "code",
   "execution_count": 11,
   "outputs": [
    {
     "name": "stdout",
     "output_type": "stream",
     "text": [
      "(39933, 3)\n"
     ]
    },
    {
     "data": {
      "text/plain": "     user_id  item_id       date\n103       94   603852 2015-07-08\n104       94    28600 2015-07-08\n105       94   987320 2015-07-08\n106       94   109924 2015-07-08\n107       94   886214 2015-07-08",
      "text/html": "<div>\n<style scoped>\n    .dataframe tbody tr th:only-of-type {\n        vertical-align: middle;\n    }\n\n    .dataframe tbody tr th {\n        vertical-align: top;\n    }\n\n    .dataframe thead th {\n        text-align: right;\n    }\n</style>\n<table border=\"1\" class=\"dataframe\">\n  <thead>\n    <tr style=\"text-align: right;\">\n      <th></th>\n      <th>user_id</th>\n      <th>item_id</th>\n      <th>date</th>\n    </tr>\n  </thead>\n  <tbody>\n    <tr>\n      <th>103</th>\n      <td>94</td>\n      <td>603852</td>\n      <td>2015-07-08</td>\n    </tr>\n    <tr>\n      <th>104</th>\n      <td>94</td>\n      <td>28600</td>\n      <td>2015-07-08</td>\n    </tr>\n    <tr>\n      <th>105</th>\n      <td>94</td>\n      <td>987320</td>\n      <td>2015-07-08</td>\n    </tr>\n    <tr>\n      <th>106</th>\n      <td>94</td>\n      <td>109924</td>\n      <td>2015-07-08</td>\n    </tr>\n    <tr>\n      <th>107</th>\n      <td>94</td>\n      <td>886214</td>\n      <td>2015-07-08</td>\n    </tr>\n  </tbody>\n</table>\n</div>"
     },
     "execution_count": 11,
     "metadata": {},
     "output_type": "execute_result"
    }
   ],
   "source": [
    "# 07月08日の閲覧履歴 Data を抽出\n",
    "y_df = log_df[log_df['date'] == target_date]\n",
    "print(y_df.shape)\n",
    "y_df.head()"
   ],
   "metadata": {
    "collapsed": false,
    "pycharm": {
     "name": "#%%\n"
    }
   }
  },
  {
   "cell_type": "code",
   "execution_count": 12,
   "outputs": [],
   "source": [
    "# x_df から User が閲覧した商品に対して freq(頻度) と rcan(最新度) を算出\n",
    "U2IRcens = {}\n",
    "for row in x_df.itertuples():\n",
    "    # 最新度（経過日数）の算出: 基準日 - 最終閲覧日\n",
    "    rcen = (target_date - row.date).days\n",
    "\n",
    "    # 辞書に最新度を登録\n",
    "    U2IRcens.setdefault(row.user_id, {})\n",
    "    U2IRcens[row.user_id].setdefault(row.item_id, [])\n",
    "    U2IRcens[row.user_id][row.item_id].append(rcen)"
   ],
   "metadata": {
    "collapsed": false,
    "pycharm": {
     "name": "#%%\n"
    }
   }
  },
  {
   "cell_type": "code",
   "execution_count": 13,
   "outputs": [
    {
     "data": {
      "text/plain": "{400521: [4, 2, 2, 2, 1], 678277: [4], 687963: [2], 178138: [1]}"
     },
     "execution_count": 13,
     "metadata": {},
     "output_type": "execute_result"
    }
   ],
   "source": [
    "U2IRcens[2497]"
   ],
   "metadata": {
    "collapsed": false,
    "pycharm": {
     "name": "#%%\n"
    }
   }
  },
  {
   "cell_type": "markdown",
   "source": [
    "User_id: 2497　の商品閲覧状況は、\n",
    "- item_id: 400521 => 4日前に１回、2日前に３回、1日前に１回、閲覧。\n",
    "- item_id: 678277 => 4日前に１回、閲覧。\n",
    "- item_id: 687963 => 2日前に１回、閲覧。\n",
    "- item_id: 178138 => 1日前に１回、閲覧。\n",
    "\n",
    "言い換えると\n",
    "- item_id: 400521 => 閲覧数５回、直近１日前に閲覧された。\n",
    "- item_id: 678277 => 閲覧数１回、直近で４日前に閲覧された。\n",
    "- item_id: 687963 => 閲覧数１回、直近で２日前に閲覧された。\n",
    "- item_id: 178138 => 閲覧数１回、直近で１日前に閲覧された。"
   ],
   "metadata": {
    "collapsed": false,
    "pycharm": {
     "name": "#%% md\n"
    }
   }
  },
  {
   "cell_type": "code",
   "execution_count": 14,
   "outputs": [
    {
     "name": "stdout",
     "output_type": "stream",
     "text": [
      "(204661, 4)\n"
     ]
    },
    {
     "data": {
      "text/plain": "   user_id  item_id  rcen  freq\n0        4   205587     4     1\n1        4   748683     4     1\n2        4   790055     4     3\n3        4   764638     4     2\n4        4   492434     4     1",
      "text/html": "<div>\n<style scoped>\n    .dataframe tbody tr th:only-of-type {\n        vertical-align: middle;\n    }\n\n    .dataframe tbody tr th {\n        vertical-align: top;\n    }\n\n    .dataframe thead th {\n        text-align: right;\n    }\n</style>\n<table border=\"1\" class=\"dataframe\">\n  <thead>\n    <tr style=\"text-align: right;\">\n      <th></th>\n      <th>user_id</th>\n      <th>item_id</th>\n      <th>rcen</th>\n      <th>freq</th>\n    </tr>\n  </thead>\n  <tbody>\n    <tr>\n      <th>0</th>\n      <td>4</td>\n      <td>205587</td>\n      <td>4</td>\n      <td>1</td>\n    </tr>\n    <tr>\n      <th>1</th>\n      <td>4</td>\n      <td>748683</td>\n      <td>4</td>\n      <td>1</td>\n    </tr>\n    <tr>\n      <th>2</th>\n      <td>4</td>\n      <td>790055</td>\n      <td>4</td>\n      <td>3</td>\n    </tr>\n    <tr>\n      <th>3</th>\n      <td>4</td>\n      <td>764638</td>\n      <td>4</td>\n      <td>2</td>\n    </tr>\n    <tr>\n      <th>4</th>\n      <td>4</td>\n      <td>492434</td>\n      <td>4</td>\n      <td>1</td>\n    </tr>\n  </tbody>\n</table>\n</div>"
     },
     "execution_count": 14,
     "metadata": {},
     "output_type": "execute_result"
    }
   ],
   "source": [
    "# freq（頻度）とrcen（最新度）を追加した Data を作成\n",
    "Rowsl = []\n",
    "for user_id, I2Rcens in U2IRcens.items():\n",
    "    for item_id, Rcens in I2Rcens.items():\n",
    "        freq = len(Rcens)\n",
    "        rcen = min(Rcens)\n",
    "        Rowsl.append((user_id, item_id, rcen, freq))\n",
    "\n",
    "UI2RF_df = pd.DataFrame(Rowsl, columns=['user_id', 'item_id', 'rcen', 'freq'])\n",
    "print(UI2RF_df.shape)\n",
    "UI2RF_df.head()\n"
   ],
   "metadata": {
    "collapsed": false,
    "pycharm": {
     "name": "#%%\n"
    }
   }
  },
  {
   "cell_type": "code",
   "execution_count": 15,
   "outputs": [
    {
     "name": "stdout",
     "output_type": "stream",
     "text": [
      "(29651, 3)\n"
     ]
    },
    {
     "data": {
      "text/plain": "        user_id  item_id       date  pv_flag\n103          94   603852 2015-07-08        1\n104          94    28600 2015-07-08        1\n105          94   987320 2015-07-08        1\n106          94   109924 2015-07-08        1\n107          94   886214 2015-07-08        1\n...         ...      ...        ...      ...\n325676   423919   707537 2015-07-08        1\n325679   423919   692138 2015-07-08        1\n325682   423919   617597 2015-07-08        1\n325715   423958   963019 2015-07-08        1\n325716   423958   299985 2015-07-08        1\n\n[29651 rows x 4 columns]",
      "text/html": "<div>\n<style scoped>\n    .dataframe tbody tr th:only-of-type {\n        vertical-align: middle;\n    }\n\n    .dataframe tbody tr th {\n        vertical-align: top;\n    }\n\n    .dataframe thead th {\n        text-align: right;\n    }\n</style>\n<table border=\"1\" class=\"dataframe\">\n  <thead>\n    <tr style=\"text-align: right;\">\n      <th></th>\n      <th>user_id</th>\n      <th>item_id</th>\n      <th>date</th>\n      <th>pv_flag</th>\n    </tr>\n  </thead>\n  <tbody>\n    <tr>\n      <th>103</th>\n      <td>94</td>\n      <td>603852</td>\n      <td>2015-07-08</td>\n      <td>1</td>\n    </tr>\n    <tr>\n      <th>104</th>\n      <td>94</td>\n      <td>28600</td>\n      <td>2015-07-08</td>\n      <td>1</td>\n    </tr>\n    <tr>\n      <th>105</th>\n      <td>94</td>\n      <td>987320</td>\n      <td>2015-07-08</td>\n      <td>1</td>\n    </tr>\n    <tr>\n      <th>106</th>\n      <td>94</td>\n      <td>109924</td>\n      <td>2015-07-08</td>\n      <td>1</td>\n    </tr>\n    <tr>\n      <th>107</th>\n      <td>94</td>\n      <td>886214</td>\n      <td>2015-07-08</td>\n      <td>1</td>\n    </tr>\n    <tr>\n      <th>...</th>\n      <td>...</td>\n      <td>...</td>\n      <td>...</td>\n      <td>...</td>\n    </tr>\n    <tr>\n      <th>325676</th>\n      <td>423919</td>\n      <td>707537</td>\n      <td>2015-07-08</td>\n      <td>1</td>\n    </tr>\n    <tr>\n      <th>325679</th>\n      <td>423919</td>\n      <td>692138</td>\n      <td>2015-07-08</td>\n      <td>1</td>\n    </tr>\n    <tr>\n      <th>325682</th>\n      <td>423919</td>\n      <td>617597</td>\n      <td>2015-07-08</td>\n      <td>1</td>\n    </tr>\n    <tr>\n      <th>325715</th>\n      <td>423958</td>\n      <td>963019</td>\n      <td>2015-07-08</td>\n      <td>1</td>\n    </tr>\n    <tr>\n      <th>325716</th>\n      <td>423958</td>\n      <td>299985</td>\n      <td>2015-07-08</td>\n      <td>1</td>\n    </tr>\n  </tbody>\n</table>\n<p>29651 rows × 4 columns</p>\n</div>"
     },
     "execution_count": 15,
     "metadata": {},
     "output_type": "execute_result"
    }
   ],
   "source": [
    "# 7月8日の Data `y_df` の重複を取り除き、pv_flag の Column を追加する\n",
    "y_df = y_df.drop_duplicates()\n",
    "print(y_df.shape)\n",
    "y_df['pv_flag'] = 1\n",
    "y_df"
   ],
   "metadata": {
    "collapsed": false,
    "pycharm": {
     "name": "#%%\n"
    }
   }
  },
  {
   "cell_type": "code",
   "execution_count": 16,
   "outputs": [
    {
     "name": "stdout",
     "output_type": "stream",
     "text": [
      "(204661, 5)\n"
     ]
    },
    {
     "data": {
      "text/plain": "   user_id  item_id  rcen  freq  pv_flag\n0        4   205587     4     1      0.0\n1        4   748683     4     1      0.0\n2        4   790055     4     3      0.0\n3        4   764638     4     2      0.0\n4        4   492434     4     1      0.0",
      "text/html": "<div>\n<style scoped>\n    .dataframe tbody tr th:only-of-type {\n        vertical-align: middle;\n    }\n\n    .dataframe tbody tr th {\n        vertical-align: top;\n    }\n\n    .dataframe thead th {\n        text-align: right;\n    }\n</style>\n<table border=\"1\" class=\"dataframe\">\n  <thead>\n    <tr style=\"text-align: right;\">\n      <th></th>\n      <th>user_id</th>\n      <th>item_id</th>\n      <th>rcen</th>\n      <th>freq</th>\n      <th>pv_flag</th>\n    </tr>\n  </thead>\n  <tbody>\n    <tr>\n      <th>0</th>\n      <td>4</td>\n      <td>205587</td>\n      <td>4</td>\n      <td>1</td>\n      <td>0.0</td>\n    </tr>\n    <tr>\n      <th>1</th>\n      <td>4</td>\n      <td>748683</td>\n      <td>4</td>\n      <td>1</td>\n      <td>0.0</td>\n    </tr>\n    <tr>\n      <th>2</th>\n      <td>4</td>\n      <td>790055</td>\n      <td>4</td>\n      <td>3</td>\n      <td>0.0</td>\n    </tr>\n    <tr>\n      <th>3</th>\n      <td>4</td>\n      <td>764638</td>\n      <td>4</td>\n      <td>2</td>\n      <td>0.0</td>\n    </tr>\n    <tr>\n      <th>4</th>\n      <td>4</td>\n      <td>492434</td>\n      <td>4</td>\n      <td>1</td>\n      <td>0.0</td>\n    </tr>\n  </tbody>\n</table>\n</div>"
     },
     "execution_count": 16,
     "metadata": {},
     "output_type": "execute_result"
    }
   ],
   "source": [
    "# UI2FR_df に user_id と item_id を key として y_df を merge\n",
    "UI2RFP_df = pd.merge(UI2RF_df, y_df[['user_id', 'item_id', 'pv_flag']], how='left', on=['user_id', 'item_id'])\n",
    "UI2RFP_df['pv_flag'].fillna(0, inplace=True)\n",
    "print(UI2RFP_df.shape)\n",
    "UI2RFP_df.head()"
   ],
   "metadata": {
    "collapsed": false,
    "pycharm": {
     "name": "#%%\n"
    }
   }
  },
  {
   "cell_type": "code",
   "execution_count": 17,
   "outputs": [
    {
     "name": "stdout",
     "output_type": "stream",
     "text": [
      "[1, 2, 3, 4, 5, 6, 7]\n",
      "[1, 2, 3, 4, 5, 6, 7, 8, 9, 10, 11, 12, 13, 14, 15, 16, 17, 18, 19, 20, 21, 22, 23, 24, 25, 26, 27, 29, 31, 32, 34, 35, 41, 43, 58, 63, 118]\n"
     ]
    }
   ],
   "source": [
    "# rcen と freq がどのような値をとるか確認\n",
    "print(sorted(UI2RFP_df['rcen'].unique()))\n",
    "print(sorted(UI2RFP_df['freq'].unique()))"
   ],
   "metadata": {
    "collapsed": false,
    "pycharm": {
     "name": "#%%\n"
    }
   }
  },
  {
   "cell_type": "markdown",
   "source": [
    "rcen: 定義域が 1 ~ 7 (※閲覧履歴が7月1日から7月7日までの期間で切れているため)\n",
    "freq: 期間中何度でも商品を閲覧できるので最大値が 118 になっている。"
   ],
   "metadata": {
    "collapsed": false,
    "pycharm": {
     "name": "#%% md\n"
    }
   }
  },
  {
   "cell_type": "code",
   "execution_count": 18,
   "outputs": [
    {
     "name": "stdout",
     "output_type": "stream",
     "text": [
      "(203456, 5)\n"
     ]
    },
    {
     "data": {
      "text/plain": "   user_id  item_id  rcen  freq  pv_flag\n0        4   205587     4     1      0.0\n1        4   748683     4     1      0.0\n2        4   790055     4     3      0.0\n3        4   764638     4     2      0.0\n4        4   492434     4     1      0.0",
      "text/html": "<div>\n<style scoped>\n    .dataframe tbody tr th:only-of-type {\n        vertical-align: middle;\n    }\n\n    .dataframe tbody tr th {\n        vertical-align: top;\n    }\n\n    .dataframe thead th {\n        text-align: right;\n    }\n</style>\n<table border=\"1\" class=\"dataframe\">\n  <thead>\n    <tr style=\"text-align: right;\">\n      <th></th>\n      <th>user_id</th>\n      <th>item_id</th>\n      <th>rcen</th>\n      <th>freq</th>\n      <th>pv_flag</th>\n    </tr>\n  </thead>\n  <tbody>\n    <tr>\n      <th>0</th>\n      <td>4</td>\n      <td>205587</td>\n      <td>4</td>\n      <td>1</td>\n      <td>0.0</td>\n    </tr>\n    <tr>\n      <th>1</th>\n      <td>4</td>\n      <td>748683</td>\n      <td>4</td>\n      <td>1</td>\n      <td>0.0</td>\n    </tr>\n    <tr>\n      <th>2</th>\n      <td>4</td>\n      <td>790055</td>\n      <td>4</td>\n      <td>3</td>\n      <td>0.0</td>\n    </tr>\n    <tr>\n      <th>3</th>\n      <td>4</td>\n      <td>764638</td>\n      <td>4</td>\n      <td>2</td>\n      <td>0.0</td>\n    </tr>\n    <tr>\n      <th>4</th>\n      <td>4</td>\n      <td>492434</td>\n      <td>4</td>\n      <td>1</td>\n      <td>0.0</td>\n    </tr>\n  </tbody>\n</table>\n</div>"
     },
     "execution_count": 18,
     "metadata": {},
     "output_type": "execute_result"
    }
   ],
   "source": [
    "# 今回は、わかりやすさのため freq の定義域を rcen との規模感に合わせ、7以下となるように Filtering し、目標となる Data を `tar_df` を作成\n",
    "tar_df = UI2RFP_df[UI2RFP_df['freq'] <= 7]\n",
    "print(tar_df.shape)\n",
    "tar_df.head()"
   ],
   "metadata": {
    "collapsed": false,
    "pycharm": {
     "name": "#%%\n"
    }
   }
  },
  {
   "cell_type": "code",
   "execution_count": 19,
   "outputs": [
    {
     "name": "stdout",
     "output_type": "stream",
     "text": [
      "2038.0\n"
     ]
    }
   ],
   "source": [
    "# pv_flag の規模感を確認\n",
    "print(tar_df['pv_flag'].sum())"
   ],
   "metadata": {
    "collapsed": false,
    "pycharm": {
     "name": "#%%\n"
    }
   }
  },
  {
   "cell_type": "markdown",
   "source": [
    "7月1日から7月7日までの期間に閲覧された商品のなかで、7月8日に再閲覧された商品は 2,038件ある様子"
   ],
   "metadata": {
    "collapsed": false,
    "pycharm": {
     "name": "#%% md\n"
    }
   }
  },
  {
   "cell_type": "code",
   "execution_count": 20,
   "outputs": [
    {
     "data": {
      "text/plain": "pv_flag    neg  pos\nrcen               \n1        24595  571\n2        24032  274\n3        28212  326\n4        30641  275\n5        31510  225\n6        31721  199\n7        30707  168",
      "text/html": "<div>\n<style scoped>\n    .dataframe tbody tr th:only-of-type {\n        vertical-align: middle;\n    }\n\n    .dataframe tbody tr th {\n        vertical-align: top;\n    }\n\n    .dataframe thead th {\n        text-align: right;\n    }\n</style>\n<table border=\"1\" class=\"dataframe\">\n  <thead>\n    <tr style=\"text-align: right;\">\n      <th>pv_flag</th>\n      <th>neg</th>\n      <th>pos</th>\n    </tr>\n    <tr>\n      <th>rcen</th>\n      <th></th>\n      <th></th>\n    </tr>\n  </thead>\n  <tbody>\n    <tr>\n      <th>1</th>\n      <td>24595</td>\n      <td>571</td>\n    </tr>\n    <tr>\n      <th>2</th>\n      <td>24032</td>\n      <td>274</td>\n    </tr>\n    <tr>\n      <th>3</th>\n      <td>28212</td>\n      <td>326</td>\n    </tr>\n    <tr>\n      <th>4</th>\n      <td>30641</td>\n      <td>275</td>\n    </tr>\n    <tr>\n      <th>5</th>\n      <td>31510</td>\n      <td>225</td>\n    </tr>\n    <tr>\n      <th>6</th>\n      <td>31721</td>\n      <td>199</td>\n    </tr>\n    <tr>\n      <th>7</th>\n      <td>30707</td>\n      <td>168</td>\n    </tr>\n  </tbody>\n</table>\n</div>"
     },
     "execution_count": 20,
     "metadata": {},
     "output_type": "execute_result"
    }
   ],
   "source": [
    "# Data が Recency と Frequency の単調性をもつことを確認\n",
    "\n",
    "# rcen に対して、7月8日に閲覧したか (pos)、閲覧しなかったか (neg) について Cross集計\n",
    "rcen_df = pd.crosstab(index=tar_df['rcen'], columns=tar_df['pv_flag'])\n",
    "rcen_df = rcen_df.rename(columns= {0: 'neg', 1: 'pos'})\n",
    "rcen_df"
   ],
   "metadata": {
    "collapsed": false,
    "pycharm": {
     "name": "#%%\n"
    }
   }
  },
  {
   "cell_type": "code",
   "execution_count": 21,
   "outputs": [
    {
     "data": {
      "text/plain": "pv_flag    neg  pos      N      prob\nrcen                                \n1        24595  571  25166  0.022689\n2        24032  274  24306  0.011273\n3        28212  326  28538  0.011423\n4        30641  275  30916  0.008895\n5        31510  225  31735  0.007090\n6        31721  199  31920  0.006234\n7        30707  168  30875  0.005441",
      "text/html": "<div>\n<style scoped>\n    .dataframe tbody tr th:only-of-type {\n        vertical-align: middle;\n    }\n\n    .dataframe tbody tr th {\n        vertical-align: top;\n    }\n\n    .dataframe thead th {\n        text-align: right;\n    }\n</style>\n<table border=\"1\" class=\"dataframe\">\n  <thead>\n    <tr style=\"text-align: right;\">\n      <th>pv_flag</th>\n      <th>neg</th>\n      <th>pos</th>\n      <th>N</th>\n      <th>prob</th>\n    </tr>\n    <tr>\n      <th>rcen</th>\n      <th></th>\n      <th></th>\n      <th></th>\n      <th></th>\n    </tr>\n  </thead>\n  <tbody>\n    <tr>\n      <th>1</th>\n      <td>24595</td>\n      <td>571</td>\n      <td>25166</td>\n      <td>0.022689</td>\n    </tr>\n    <tr>\n      <th>2</th>\n      <td>24032</td>\n      <td>274</td>\n      <td>24306</td>\n      <td>0.011273</td>\n    </tr>\n    <tr>\n      <th>3</th>\n      <td>28212</td>\n      <td>326</td>\n      <td>28538</td>\n      <td>0.011423</td>\n    </tr>\n    <tr>\n      <th>4</th>\n      <td>30641</td>\n      <td>275</td>\n      <td>30916</td>\n      <td>0.008895</td>\n    </tr>\n    <tr>\n      <th>5</th>\n      <td>31510</td>\n      <td>225</td>\n      <td>31735</td>\n      <td>0.007090</td>\n    </tr>\n    <tr>\n      <th>6</th>\n      <td>31721</td>\n      <td>199</td>\n      <td>31920</td>\n      <td>0.006234</td>\n    </tr>\n    <tr>\n      <th>7</th>\n      <td>30707</td>\n      <td>168</td>\n      <td>30875</td>\n      <td>0.005441</td>\n    </tr>\n  </tbody>\n</table>\n</div>"
     },
     "execution_count": 21,
     "metadata": {},
     "output_type": "execute_result"
    },
    {
     "data": {
      "text/plain": "<Figure size 432x288 with 1 Axes>",
      "image/png": "[encoded data removed]"
     },
     "metadata": {
      "needs_background": "light"
     },
     "output_type": "display_data"
    }
   ],
   "source": [
    "# 各rcen に対して総件数を N として、再閲覧率 prob を算出\n",
    "rcen_df['N'] = rcen_df['neg'] + rcen_df['pos']\n",
    "rcen_df['prob'] = rcen_df['pos'] / rcen_df['N']\n",
    "rcen_df[['prob']].plot.bar()\n",
    "rcen_df"
   ],
   "metadata": {
    "collapsed": false,
    "pycharm": {
     "name": "#%%\n"
    }
   }
  },
  {
   "cell_type": "markdown",
   "source": [
    "- rcen に対して再閲覧率 prob が単調減少の傾向がある\n",
    "\n",
    "=> 最近で閲覧した商品ほど再度閲覧されると解釈できる。"
   ],
   "metadata": {
    "collapsed": false,
    "pycharm": {
     "name": "#%% md\n"
    }
   }
  },
  {
   "cell_type": "code",
   "execution_count": 22,
   "outputs": [
    {
     "data": {
      "text/plain": "pv_flag     neg  pos\nfreq                \n1        161753  964\n2         24938  476\n3          7733  258\n4          3527  149\n5          1807   88\n6          1038   63\n7           622   40",
      "text/html": "<div>\n<style scoped>\n    .dataframe tbody tr th:only-of-type {\n        vertical-align: middle;\n    }\n\n    .dataframe tbody tr th {\n        vertical-align: top;\n    }\n\n    .dataframe thead th {\n        text-align: right;\n    }\n</style>\n<table border=\"1\" class=\"dataframe\">\n  <thead>\n    <tr style=\"text-align: right;\">\n      <th>pv_flag</th>\n      <th>neg</th>\n      <th>pos</th>\n    </tr>\n    <tr>\n      <th>freq</th>\n      <th></th>\n      <th></th>\n    </tr>\n  </thead>\n  <tbody>\n    <tr>\n      <th>1</th>\n      <td>161753</td>\n      <td>964</td>\n    </tr>\n    <tr>\n      <th>2</th>\n      <td>24938</td>\n      <td>476</td>\n    </tr>\n    <tr>\n      <th>3</th>\n      <td>7733</td>\n      <td>258</td>\n    </tr>\n    <tr>\n      <th>4</th>\n      <td>3527</td>\n      <td>149</td>\n    </tr>\n    <tr>\n      <th>5</th>\n      <td>1807</td>\n      <td>88</td>\n    </tr>\n    <tr>\n      <th>6</th>\n      <td>1038</td>\n      <td>63</td>\n    </tr>\n    <tr>\n      <th>7</th>\n      <td>622</td>\n      <td>40</td>\n    </tr>\n  </tbody>\n</table>\n</div>"
     },
     "execution_count": 22,
     "metadata": {},
     "output_type": "execute_result"
    }
   ],
   "source": [
    "# freq に対して、7月8日に閲覧したか (pos), 閲覧しなかったか (neg) について Cross集計\n",
    "freq_df = pd.crosstab(index=tar_df['freq'], columns=tar_df['pv_flag'])\n",
    "freq_df = freq_df.rename(columns={0: 'neg', 1: 'pos'})\n",
    "freq_df"
   ],
   "metadata": {
    "collapsed": false,
    "pycharm": {
     "name": "#%%\n"
    }
   }
  },
  {
   "cell_type": "code",
   "execution_count": 23,
   "outputs": [
    {
     "data": {
      "text/plain": "pv_flag     neg  pos       N      prob\nfreq                                  \n1        161753  964  162717  0.005924\n2         24938  476   25414  0.018730\n3          7733  258    7991  0.032286\n4          3527  149    3676  0.040533\n5          1807   88    1895  0.046438\n6          1038   63    1101  0.057221\n7           622   40     662  0.060423",
      "text/html": "<div>\n<style scoped>\n    .dataframe tbody tr th:only-of-type {\n        vertical-align: middle;\n    }\n\n    .dataframe tbody tr th {\n        vertical-align: top;\n    }\n\n    .dataframe thead th {\n        text-align: right;\n    }\n</style>\n<table border=\"1\" class=\"dataframe\">\n  <thead>\n    <tr style=\"text-align: right;\">\n      <th>pv_flag</th>\n      <th>neg</th>\n      <th>pos</th>\n      <th>N</th>\n      <th>prob</th>\n    </tr>\n    <tr>\n      <th>freq</th>\n      <th></th>\n      <th></th>\n      <th></th>\n      <th></th>\n    </tr>\n  </thead>\n  <tbody>\n    <tr>\n      <th>1</th>\n      <td>161753</td>\n      <td>964</td>\n      <td>162717</td>\n      <td>0.005924</td>\n    </tr>\n    <tr>\n      <th>2</th>\n      <td>24938</td>\n      <td>476</td>\n      <td>25414</td>\n      <td>0.018730</td>\n    </tr>\n    <tr>\n      <th>3</th>\n      <td>7733</td>\n      <td>258</td>\n      <td>7991</td>\n      <td>0.032286</td>\n    </tr>\n    <tr>\n      <th>4</th>\n      <td>3527</td>\n      <td>149</td>\n      <td>3676</td>\n      <td>0.040533</td>\n    </tr>\n    <tr>\n      <th>5</th>\n      <td>1807</td>\n      <td>88</td>\n      <td>1895</td>\n      <td>0.046438</td>\n    </tr>\n    <tr>\n      <th>6</th>\n      <td>1038</td>\n      <td>63</td>\n      <td>1101</td>\n      <td>0.057221</td>\n    </tr>\n    <tr>\n      <th>7</th>\n      <td>622</td>\n      <td>40</td>\n      <td>662</td>\n      <td>0.060423</td>\n    </tr>\n  </tbody>\n</table>\n</div>"
     },
     "execution_count": 23,
     "metadata": {},
     "output_type": "execute_result"
    },
    {
     "data": {
      "text/plain": "<Figure size 432x288 with 1 Axes>",
      "image/png": "[encoded data removed]"
     },
     "metadata": {
      "needs_background": "light"
     },
     "output_type": "display_data"
    }
   ],
   "source": [
    "# 各 freq に対して総件数を N として、再閲覧率 prob を算出\n",
    "freq_df['N'] = freq_df['neg'] + freq_df['pos']\n",
    "freq_df['prob'] = freq_df['pos'] / freq_df['N']\n",
    "freq_df[['prob']].plot.bar()\n",
    "freq_df"
   ],
   "metadata": {
    "collapsed": false,
    "pycharm": {
     "name": "#%%\n"
    }
   }
  },
  {
   "cell_type": "markdown",
   "source": [
    "- freq に対して prob が単調増加の傾向\n",
    "\n",
    "=> 何度も閲覧した商品ほど再度閲覧される、と解釈できる"
   ],
   "metadata": {
    "collapsed": false,
    "pycharm": {
     "name": "#%% md\n"
    }
   }
  },
  {
   "cell_type": "markdown",
   "source": [
    "対象とする Data において、Recency と Frequency の単調性が成立すると判断できる。"
   ],
   "metadata": {
    "collapsed": false,
    "pycharm": {
     "name": "#%% md\n"
    }
   }
  },
  {
   "cell_type": "markdown",
   "source": [
    "## 数理 Modeling と 実装\n",
    "rcen と freq に対して再度閲覧確率を対応付ける関数を数理 Model として構築する。"
   ],
   "metadata": {
    "collapsed": false,
    "pycharm": {
     "name": "#%% md\n"
    }
   }
  },
  {
   "cell_type": "markdown",
   "source": [
    "### 数理 Model\n",
    "rcen と freq に対する再閲覧確率 prob の関係を集計する。\n",
    "\n",
    "次の Column を持つ rf_df を作成する。\n",
    "- rcen: rcen の値\n",
    "- freq: freq の値\n",
    "- N: rcen と freq の Pair に対する総件数\n",
    "- pv: rcen と freq の Pair に対する再閲覧の件数\n",
    "- prob: rcen と freq の Pair に対する再閲覧確率"
   ],
   "metadata": {
    "collapsed": false,
    "pycharm": {
     "name": "#%% md\n"
    }
   }
  },
  {
   "cell_type": "code",
   "execution_count": 24,
   "outputs": [
    {
     "name": "stdout",
     "output_type": "stream",
     "text": [
      "(203456, 5)\n"
     ]
    },
    {
     "data": {
      "text/plain": "   user_id  item_id  rcen  freq  pv_flag\n0        4   205587     4     1      0.0\n1        4   748683     4     1      0.0\n2        4   790055     4     3      0.0\n3        4   764638     4     2      0.0\n4        4   492434     4     1      0.0",
      "text/html": "<div>\n<style scoped>\n    .dataframe tbody tr th:only-of-type {\n        vertical-align: middle;\n    }\n\n    .dataframe tbody tr th {\n        vertical-align: top;\n    }\n\n    .dataframe thead th {\n        text-align: right;\n    }\n</style>\n<table border=\"1\" class=\"dataframe\">\n  <thead>\n    <tr style=\"text-align: right;\">\n      <th></th>\n      <th>user_id</th>\n      <th>item_id</th>\n      <th>rcen</th>\n      <th>freq</th>\n      <th>pv_flag</th>\n    </tr>\n  </thead>\n  <tbody>\n    <tr>\n      <th>0</th>\n      <td>4</td>\n      <td>205587</td>\n      <td>4</td>\n      <td>1</td>\n      <td>0.0</td>\n    </tr>\n    <tr>\n      <th>1</th>\n      <td>4</td>\n      <td>748683</td>\n      <td>4</td>\n      <td>1</td>\n      <td>0.0</td>\n    </tr>\n    <tr>\n      <th>2</th>\n      <td>4</td>\n      <td>790055</td>\n      <td>4</td>\n      <td>3</td>\n      <td>0.0</td>\n    </tr>\n    <tr>\n      <th>3</th>\n      <td>4</td>\n      <td>764638</td>\n      <td>4</td>\n      <td>2</td>\n      <td>0.0</td>\n    </tr>\n    <tr>\n      <th>4</th>\n      <td>4</td>\n      <td>492434</td>\n      <td>4</td>\n      <td>1</td>\n      <td>0.0</td>\n    </tr>\n  </tbody>\n</table>\n</div>"
     },
     "execution_count": 24,
     "metadata": {},
     "output_type": "execute_result"
    }
   ],
   "source": [
    "print(tar_df.shape)\n",
    "tar_df.head()"
   ],
   "metadata": {
    "collapsed": false,
    "pycharm": {
     "name": "#%%\n"
    }
   }
  },
  {
   "cell_type": "markdown",
   "source": [
    "tar_df から３つの辞書を作成する。\n",
    "- RF2N: rcen, freq の Pair を指定すると該当する総件数を表す辞書。\n",
    "- RF2PV: rcen, freq の Pair を指定すると該当する再閲覧の件数を表す辞書。\n",
    "- RF2Prob: rcen, freq の Pair を指定すると該当する再閲覧確率を表す辞書。"
   ],
   "metadata": {
    "collapsed": false,
    "pycharm": {
     "name": "#%% md\n"
    }
   }
  },
  {
   "cell_type": "code",
   "execution_count": 25,
   "outputs": [],
   "source": [
    "# tar_df から RF2PV を作成\n",
    "RF2N = {}\n",
    "RF2PV = {}\n",
    "for row in tar_df.itertuples():\n",
    "    RF2N.setdefault((row.rcen, row.freq), 0)\n",
    "    RF2PV.setdefault((row.rcen, row.freq), 0)\n",
    "    RF2N[row.rcen, row.freq] += 1\n",
    "    if row.pv_flag == 1:\n",
    "        RF2PV[row.rcen, row.freq] += 1"
   ],
   "metadata": {
    "collapsed": false,
    "pycharm": {
     "name": "#%%\n"
    }
   }
  },
  {
   "cell_type": "code",
   "execution_count": 26,
   "outputs": [],
   "source": [
    "# 辞書 RF2N と辞書 RF2PV から 辞書 RF2Prob を作成\n",
    "RF2Prob = {}\n",
    "for rf, N in RF2N.items():\n",
    "    RF2Prob[rf] = RF2PV[rf] / N"
   ],
   "metadata": {
    "collapsed": false,
    "pycharm": {
     "name": "#%%\n"
    }
   }
  },
  {
   "cell_type": "code",
   "execution_count": 27,
   "outputs": [
    {
     "name": "stdout",
     "output_type": "stream",
     "text": [
      "(49, 5)\n"
     ]
    },
    {
     "data": {
      "text/plain": "   rcen  freq      N   pv      prob\n0     1     1  19602  245  0.012499\n1     1     2   3323  132  0.039723\n2     1     3   1120   81  0.072321\n3     1     4    539   36  0.066790\n4     1     5    285   36  0.126316",
      "text/html": "<div>\n<style scoped>\n    .dataframe tbody tr th:only-of-type {\n        vertical-align: middle;\n    }\n\n    .dataframe tbody tr th {\n        vertical-align: top;\n    }\n\n    .dataframe thead th {\n        text-align: right;\n    }\n</style>\n<table border=\"1\" class=\"dataframe\">\n  <thead>\n    <tr style=\"text-align: right;\">\n      <th></th>\n      <th>rcen</th>\n      <th>freq</th>\n      <th>N</th>\n      <th>pv</th>\n      <th>prob</th>\n    </tr>\n  </thead>\n  <tbody>\n    <tr>\n      <th>0</th>\n      <td>1</td>\n      <td>1</td>\n      <td>19602</td>\n      <td>245</td>\n      <td>0.012499</td>\n    </tr>\n    <tr>\n      <th>1</th>\n      <td>1</td>\n      <td>2</td>\n      <td>3323</td>\n      <td>132</td>\n      <td>0.039723</td>\n    </tr>\n    <tr>\n      <th>2</th>\n      <td>1</td>\n      <td>3</td>\n      <td>1120</td>\n      <td>81</td>\n      <td>0.072321</td>\n    </tr>\n    <tr>\n      <th>3</th>\n      <td>1</td>\n      <td>4</td>\n      <td>539</td>\n      <td>36</td>\n      <td>0.066790</td>\n    </tr>\n    <tr>\n      <th>4</th>\n      <td>1</td>\n      <td>5</td>\n      <td>285</td>\n      <td>36</td>\n      <td>0.126316</td>\n    </tr>\n  </tbody>\n</table>\n</div>"
     },
     "execution_count": 27,
     "metadata": {},
     "output_type": "execute_result"
    }
   ],
   "source": [
    "# rf_df を作成\n",
    "Row3 = []\n",
    "for rf, N in sorted(RF2N.items()):\n",
    "    pv = RF2PV[rf]\n",
    "    prob = RF2Prob[rf]\n",
    "    row = (rf[0], rf[1], N, pv, prob)\n",
    "    Row3.append(row)\n",
    "rf_df = pd.DataFrame(Row3, columns=['rcen', 'freq', 'N', 'pv', 'prob'])\n",
    "print(rf_df.shape)\n",
    "rf_df.head()"
   ],
   "metadata": {
    "collapsed": false,
    "pycharm": {
     "name": "#%%\n"
    }
   }
  },
  {
   "cell_type": "code",
   "execution_count": 28,
   "outputs": [
    {
     "data": {
      "text/plain": "freq         1         2         3         4         5         6         7\nrcen                                                                      \n1     0.012499  0.039723  0.072321  0.066790  0.126316  0.112994  0.175000\n2     0.005856  0.021189  0.026973  0.056645  0.066225  0.098765  0.063830\n3     0.006107  0.023230  0.039621  0.053265  0.039427  0.054054  0.050420\n4     0.005454  0.015366  0.024521  0.046901  0.036667  0.037838  0.018349\n5     0.004376  0.015504  0.023673  0.014925  0.021898  0.028902  0.030612\n6     0.004456  0.009848  0.024514  0.019569  0.008511  0.024793  0.025316\n7     0.004256  0.009086  0.014056  0.023377  0.009091  0.020408  0.000000",
      "text/html": "<div>\n<style scoped>\n    .dataframe tbody tr th:only-of-type {\n        vertical-align: middle;\n    }\n\n    .dataframe tbody tr th {\n        vertical-align: top;\n    }\n\n    .dataframe thead th {\n        text-align: right;\n    }\n</style>\n<table border=\"1\" class=\"dataframe\">\n  <thead>\n    <tr style=\"text-align: right;\">\n      <th>freq</th>\n      <th>1</th>\n      <th>2</th>\n      <th>3</th>\n      <th>4</th>\n      <th>5</th>\n      <th>6</th>\n      <th>7</th>\n    </tr>\n    <tr>\n      <th>rcen</th>\n      <th></th>\n      <th></th>\n      <th></th>\n      <th></th>\n      <th></th>\n      <th></th>\n      <th></th>\n    </tr>\n  </thead>\n  <tbody>\n    <tr>\n      <th>1</th>\n      <td>0.012499</td>\n      <td>0.039723</td>\n      <td>0.072321</td>\n      <td>0.066790</td>\n      <td>0.126316</td>\n      <td>0.112994</td>\n      <td>0.175000</td>\n    </tr>\n    <tr>\n      <th>2</th>\n      <td>0.005856</td>\n      <td>0.021189</td>\n      <td>0.026973</td>\n      <td>0.056645</td>\n      <td>0.066225</td>\n      <td>0.098765</td>\n      <td>0.063830</td>\n    </tr>\n    <tr>\n      <th>3</th>\n      <td>0.006107</td>\n      <td>0.023230</td>\n      <td>0.039621</td>\n      <td>0.053265</td>\n      <td>0.039427</td>\n      <td>0.054054</td>\n      <td>0.050420</td>\n    </tr>\n    <tr>\n      <th>4</th>\n      <td>0.005454</td>\n      <td>0.015366</td>\n      <td>0.024521</td>\n      <td>0.046901</td>\n      <td>0.036667</td>\n      <td>0.037838</td>\n      <td>0.018349</td>\n    </tr>\n    <tr>\n      <th>5</th>\n      <td>0.004376</td>\n      <td>0.015504</td>\n      <td>0.023673</td>\n      <td>0.014925</td>\n      <td>0.021898</td>\n      <td>0.028902</td>\n      <td>0.030612</td>\n    </tr>\n    <tr>\n      <th>6</th>\n      <td>0.004456</td>\n      <td>0.009848</td>\n      <td>0.024514</td>\n      <td>0.019569</td>\n      <td>0.008511</td>\n      <td>0.024793</td>\n      <td>0.025316</td>\n    </tr>\n    <tr>\n      <th>7</th>\n      <td>0.004256</td>\n      <td>0.009086</td>\n      <td>0.014056</td>\n      <td>0.023377</td>\n      <td>0.009091</td>\n      <td>0.020408</td>\n      <td>0.000000</td>\n    </tr>\n  </tbody>\n</table>\n</div>"
     },
     "execution_count": 28,
     "metadata": {},
     "output_type": "execute_result"
    }
   ],
   "source": [
    "# rf_df を横持ちの Data 形式にする\n",
    "rf_df.pivot_table(index='rcen', columns='freq', values='prob')"
   ],
   "metadata": {
    "collapsed": false,
    "pycharm": {
     "name": "#%%\n"
    }
   }
  },
  {
   "cell_type": "code",
   "execution_count": 29,
   "outputs": [],
   "source": [
    "# 3D の Graph を作成するために、いくつかの Library を import する\n",
    "import numpy as np\n",
    "from mpl_toolkits.mplot3d import Axes3D\n",
    "import matplotlib.pyplot as plt"
   ],
   "metadata": {
    "collapsed": false,
    "pycharm": {
     "name": "#%%\n"
    }
   }
  },
  {
   "cell_type": "code",
   "execution_count": 30,
   "outputs": [
    {
     "data": {
      "text/plain": "<mpl_toolkits.mplot3d.art3d.Line3DCollection at 0x2b8a35f5ff0>"
     },
     "execution_count": 30,
     "metadata": {},
     "output_type": "execute_result"
    },
    {
     "data": {
      "text/plain": "<Figure size 432x288 with 1 Axes>",
      "image/png": "[encoded data removed]"
     },
     "metadata": {
      "needs_background": "light"
     },
     "output_type": "display_data"
    }
   ],
   "source": [
    "# rcen と freq に対する Prob の 3D Graph を描画\n",
    "Freq = rf_df['freq'].unique().tolist()\n",
    "Rcen = rf_df['rcen'].unique().tolist()\n",
    "Z = [rf_df[(rf_df['freq'] == freq) & (rf_df['rcen'] == rcen)]['prob'].iloc[0] for freq in Freq for rcen in Rcen]\n",
    "Z = np.array(Z).reshape((len(Freq), len(Rcen)))\n",
    "X, Y = np.meshgrid(Rcen, Freq)\n",
    "fig = plt.figure()\n",
    "ax = fig.add_subplot(111,\n",
    "                     projection='3d',\n",
    "                     xlabel='rcen',\n",
    "                     ylabel='freq',\n",
    "                     zlabel='prob'\n",
    "                     )\n",
    "ax.plot_wireframe(X, Y, Z)"
   ],
   "metadata": {
    "collapsed": false,
    "pycharm": {
     "name": "#%%\n"
    }
   }
  },
  {
   "cell_type": "markdown",
   "source": [
    "rcen, freq に対する prob の関係として Recency と Frequency の単調性の傾向があるものの、ところどころ成り立っていない様子がある。\n",
    "原因として\n",
    "- Data 量が少ないため\n",
    "- Data に Noise が含まれるため"
   ],
   "metadata": {
    "collapsed": false,
    "pycharm": {
     "name": "#%% md\n"
    }
   }
  },
  {
   "cell_type": "markdown",
   "source": [
    "今回、作成した rf_df は、rcen と freq に対して Prob を対応づける関数となっている為、今回、目標とている数理 Model の１つとなる。"
   ],
   "metadata": {
    "collapsed": false,
    "pycharm": {
     "name": "#%% md\n"
    }
   }
  },
  {
   "cell_type": "markdown",
   "source": [
    "### 数理最適化 Model\n",
    "Frequency と Recency の特性が成り立つような関数を構築するために、数理最適化 Model を構築する。"
   ],
   "metadata": {
    "collapsed": false,
    "pycharm": {
     "name": "#%% md\n"
    }
   }
  },
  {
   "cell_type": "markdown",
   "source": [
    "#### 確率推定問題\n",
    "- 確率の推定\n",
    "要件(1). rcen と freq に対して再閲覧確率 pred_prob を推定する\n",
    "- Recency: User は最近閲覧した商品に興味がある\n",
    "要件(2). pred_prob は rcen について単調減少する\n",
    "- Frequency: User は何度も閲覧した商品に興味がある\n",
    "要件(3). pred_prob は freq について単調減少する\n",
    "- 推定した再閲覧確率と再閲覧確率の実績値との乖離を最小化する\n",
    "要件(4). pred_prob と prob の二乗誤差を総件数の重み付きで最小化する\n",
    "\n",
    "上記で定義する数理 Model を凸二次計画問題に Modeling する。\n",
    "> ###### 凸二次計画\n",
    "> 目的関数が凸な二次関数であり制約式が線形の不等式で書ける最適化問題"
   ],
   "metadata": {
    "collapsed": false,
    "pycharm": {
     "name": "#%% md\n"
    }
   }
  },
  {
   "cell_type": "markdown",
   "source": [
    "##### 要件(1). rcen と freq に対して再閲覧率 pred_prob を推定する\n",
    "- rcen の範囲の List: *R*（自然数全体）\n",
    "- freq の範囲の List: *F*（自然数全体）\n",
    "- 変数（rcen *r(∊R)* と freq *f(∊F)* に対応する再閲覧確率の推定値）: *pred_prob_r,f∊\\[0,1] (r∊R, f∊F)*"
   ],
   "metadata": {
    "collapsed": false,
    "pycharm": {
     "name": "#%% md\n"
    }
   }
  },
  {
   "cell_type": "code",
   "execution_count": 31,
   "outputs": [
    {
     "name": "stdout",
     "output_type": "stream",
     "text": [
      "[1, 2, 3, 4, 5, 6, 7]\n",
      "[1, 2, 3, 4, 5, 6, 7]\n"
     ]
    }
   ],
   "source": [
    "R = sorted(tar_df['rcen'].unique().tolist())\n",
    "F = sorted(tar_df['freq'].unique().tolist())\n",
    "print(R)\n",
    "print(F)"
   ],
   "metadata": {
    "collapsed": false,
    "pycharm": {
     "name": "#%%\n"
    }
   }
  },
  {
   "cell_type": "code",
   "execution_count": 32,
   "outputs": [
    {
     "name": "stdout",
     "output_type": "stream",
     "text": [
      "[0, 1, 2, 3, 4, 5, 6, 7, 8, 9, 10, 11, 12, 13, 14, 15, 16, 17, 18, 19, 20, 21, 22, 23, 24, 25, 26, 27, 28, 29, 30, 31, 32, 33, 34, 35, 36, 37, 38, 39, 40, 41, 42, 43, 44, 45, 46, 47, 48]\n",
      "{(1, 1): 0, (1, 2): 1, (1, 3): 2, (1, 4): 3, (1, 5): 4, (1, 6): 5, (1, 7): 6, (2, 1): 7, (2, 2): 8, (2, 3): 9, (2, 4): 10, (2, 5): 11, (2, 6): 12, (2, 7): 13, (3, 1): 14, (3, 2): 15, (3, 3): 16, (3, 4): 17, (3, 5): 18, (3, 6): 19, (3, 7): 20, (4, 1): 21, (4, 2): 22, (4, 3): 23, (4, 4): 24, (4, 5): 25, (4, 6): 26, (4, 7): 27, (5, 1): 28, (5, 2): 29, (5, 3): 30, (5, 4): 31, (5, 5): 32, (5, 6): 33, (5, 7): 34, (6, 1): 35, (6, 2): 36, (6, 3): 37, (6, 4): 38, (6, 5): 39, (6, 6): 40, (6, 7): 41, (7, 1): 42, (7, 2): 43, (7, 3): 44, (7, 4): 45, (7, 5): 46, (7, 6): 47, (7, 7): 48}\n"
     ]
    }
   ],
   "source": [
    "# 変数の順番づけをする Idx(list) と、r(rcen) と freq(f) の値に対して索引 idx を対応づける辞書 RF2Idx を定義\n",
    "# ※CVXOPT 変数 Vector と積をとる行列や Vector を直接定義するため、変数を明示的に定義する必要なし。その代わり、数理 Model いおける変数 pred_prob_r,f が何番目の変数か索引をつける必要がある。\n",
    "Idx = []\n",
    "RF2Idx = {}\n",
    "idx = 0\n",
    "for r in R:\n",
    "    for f in F:\n",
    "        Idx.append(idx)\n",
    "        RF2Idx[r, f] = idx\n",
    "        idx += 1\n",
    "print(Idx)\n",
    "print(RF2Idx)"
   ],
   "metadata": {
    "collapsed": false,
    "pycharm": {
     "name": "#%%\n"
    }
   }
  },
  {
   "cell_type": "code",
   "execution_count": 33,
   "outputs": [],
   "source": [
    "# pred_prob の値域を制約式として定義する\n",
    "G_list = []  # 制約式に現われる変数の係数行列を作るための List\n",
    "h_list = []  # 制約式に現われる定数項の Vector を作るための List\n",
    "var_vec = [0.0] * len(Idx)  # 変数の係数行列を作成するための Default の変数の係数 Vector"
   ],
   "metadata": {
    "collapsed": false,
    "pycharm": {
     "name": "#%%\n"
    }
   }
  },
  {
   "cell_type": "code",
   "execution_count": 34,
   "outputs": [],
   "source": [
    "# 数理 Model の実装\n",
    "# -pred_prob[r,f] <= 0 の実装\n",
    "for r in R:\n",
    "    for f in F:\n",
    "        idx = RF2Idx[r, f]\n",
    "        G_row = var_vec[:]\n",
    "        G_row[idx] = -1  # pred_prob[r, f] の係数は -1\n",
    "        G_list.append(G_row)\n",
    "        h_list.append(0)  # 右辺は定数項 0\n",
    "\n",
    "# pred_prob[r, f] <= 1 の実装\n",
    "for r in R:\n",
    "    for f in F:\n",
    "        idx = RF2Idx[r, f]\n",
    "        G_row = var_vec[:]\n",
    "        G_row[idx] = 1  # pred_prob[r, f]の係数は 1\n",
    "        G_list.append(G_row)\n",
    "        h_list.append(1)  # 右辺の定数項は 1"
   ],
   "metadata": {
    "collapsed": false,
    "pycharm": {
     "name": "#%%\n"
    }
   }
  },
  {
   "cell_type": "code",
   "execution_count": null,
   "outputs": [],
   "source": [],
   "metadata": {
    "collapsed": false,
    "pycharm": {
     "name": "#%%\n"
    }
   }
  }
 ],
 "metadata": {
  "kernelspec": {
   "display_name": "Python 3",
   "language": "python",
   "name": "python3"
  },
  "language_info": {
   "codemirror_mode": {
    "name": "ipython",
    "version": 2
   },
   "file_extension": ".py",
   "mimetype": "text/x-python",
   "name": "python",
   "nbconvert_exporter": "python",
   "pygments_lexer": "ipython2",
   "version": "2.7.6"
  }
 },
 "nbformat": 4,
 "nbformat_minor": 0
}