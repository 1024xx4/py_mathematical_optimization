{
 "cells": [
  {
   "cell_type": "code",
   "execution_count": 1,
   "metadata": {
    "collapsed": true,
    "pycharm": {
     "name": "#%%\n"
    }
   },
   "outputs": [
    {
     "name": "stdout",
     "output_type": "stream",
     "text": [
      "(325908, 3)\n"
     ]
    },
    {
     "data": {
      "text/plain": "   user_id  item_id       date\n0        4   205587 2015-07-04\n1        4   748683 2015-07-04\n2        4   790055 2015-07-04\n3        4   790055 2015-07-04\n4        4   764638 2015-07-04",
      "text/html": "<div>\n<style scoped>\n    .dataframe tbody tr th:only-of-type {\n        vertical-align: middle;\n    }\n\n    .dataframe tbody tr th {\n        vertical-align: top;\n    }\n\n    .dataframe thead th {\n        text-align: right;\n    }\n</style>\n<table border=\"1\" class=\"dataframe\">\n  <thead>\n    <tr style=\"text-align: right;\">\n      <th></th>\n      <th>user_id</th>\n      <th>item_id</th>\n      <th>date</th>\n    </tr>\n  </thead>\n  <tbody>\n    <tr>\n      <th>0</th>\n      <td>4</td>\n      <td>205587</td>\n      <td>2015-07-04</td>\n    </tr>\n    <tr>\n      <th>1</th>\n      <td>4</td>\n      <td>748683</td>\n      <td>2015-07-04</td>\n    </tr>\n    <tr>\n      <th>2</th>\n      <td>4</td>\n      <td>790055</td>\n      <td>2015-07-04</td>\n    </tr>\n    <tr>\n      <th>3</th>\n      <td>4</td>\n      <td>790055</td>\n      <td>2015-07-04</td>\n    </tr>\n    <tr>\n      <th>4</th>\n      <td>4</td>\n      <td>764638</td>\n      <td>2015-07-04</td>\n    </tr>\n  </tbody>\n</table>\n</div>"
     },
     "execution_count": 1,
     "metadata": {},
     "output_type": "execute_result"
    }
   ],
   "source": [
    "import pandas as pd\n",
    "\n",
    "log_df = pd.read_csv('access_log.csv', parse_dates=['date'])\n",
    "print(log_df.shape)\n",
    "log_df.head()"
   ]
  },
  {
   "cell_type": "markdown",
   "source": [
    "Column:\n",
    "- User_id: User の Unique ID で、正の整数値をとる\n",
    "- item_id: 商品の Unique ID で、正の整数値をとる\n",
    "- date: User が商品を閲覧した日付。yyyy-mm-dd の形式をとる。"
   ],
   "metadata": {
    "collapsed": false,
    "pycharm": {
     "name": "#%% md\n"
    }
   }
  },
  {
   "cell_type": "code",
   "execution_count": 4,
   "outputs": [
    {
     "data": {
      "text/plain": "count    31443.000000\nmean        10.365042\nstd         16.023399\nmin          2.000000\n25%          3.000000\n50%          5.000000\n75%         11.000000\nmax        632.000000\nName: user_id, dtype: float64"
     },
     "execution_count": 4,
     "metadata": {},
     "output_type": "execute_result"
    }
   ],
   "source": [
    "# User が期間内でどのくらい商品を閲覧を知るために User の商品の閲覧数の分布を確認\n",
    "log_df['user_id'].value_counts().describe()"
   ],
   "metadata": {
    "collapsed": false,
    "pycharm": {
     "name": "#%%\n"
    }
   }
  },
  {
   "cell_type": "code",
   "execution_count": 9,
   "outputs": [
    {
     "data": {
      "text/plain": "<AxesSubplot:>"
     },
     "execution_count": 9,
     "metadata": {},
     "output_type": "execute_result"
    },
    {
     "data": {
      "text/plain": "<Figure size 432x288 with 1 Axes>",
      "image/png": "[encoded data removed]"
     },
     "metadata": {
      "needs_background": "light"
     },
     "output_type": "display_data"
    }
   ],
   "source": [
    "log_df['user_id'].value_counts().hist()"
   ],
   "metadata": {
    "collapsed": false,
    "pycharm": {
     "name": "#%%\n"
    }
   }
  },
  {
   "cell_type": "markdown",
   "source": [
    "- count から Unique user 数\n",
    "- mean から平均閲覧数\n",
    "- 50% から商品閲覧数の中央値\n",
    "\n",
    "が確認とれる。\n",
    "最大で 632 回商品を閲覧している Heavy user もいるため、平均値と中央値に大きなズレが生じている。"
   ],
   "metadata": {
    "collapsed": false,
    "pycharm": {
     "name": "#%% md\n"
    }
   }
  },
  {
   "cell_type": "code",
   "execution_count": 6,
   "outputs": [
    {
     "data": {
      "text/plain": "count    87611.000000\nmean         3.719944\nstd          8.802572\nmin          1.000000\n25%          1.000000\n50%          2.000000\n75%          3.000000\nmax        941.000000\nName: item_id, dtype: float64"
     },
     "execution_count": 6,
     "metadata": {},
     "output_type": "execute_result"
    }
   ],
   "source": [
    "# 商品が期間内でどのくらい User に閲覧されているかを知るために、商品を閲覧した User 数の分布を確認\n",
    "log_df['item_id'].value_counts().describe()"
   ],
   "metadata": {
    "collapsed": false,
    "pycharm": {
     "name": "#%%\n"
    }
   }
  },
  {
   "cell_type": "code",
   "execution_count": 10,
   "outputs": [
    {
     "data": {
      "text/plain": "<AxesSubplot:>"
     },
     "execution_count": 10,
     "metadata": {},
     "output_type": "execute_result"
    },
    {
     "data": {
      "text/plain": "<Figure size 432x288 with 1 Axes>",
      "image/png": "[encoded data removed]"
     },
     "metadata": {
      "needs_background": "light"
     },
     "output_type": "display_data"
    }
   ],
   "source": [
    "log_df['item_id'].value_counts().hist()"
   ],
   "metadata": {
    "collapsed": false,
    "pycharm": {
     "name": "#%%\n"
    }
   }
  },
  {
   "cell_type": "markdown",
   "source": [
    "- count から商品数\n",
    "- mean から１商品あたりの閲覧数の平均\n",
    "- 50% から１商品あたりの閲覧数の中央値\n",
    "\n",
    "が確認とれる。\n",
    "最大で 941 回、閲覧されている人気商品があることが確認とれる。"
   ],
   "metadata": {
    "collapsed": false,
    "pycharm": {
     "name": "#%% md\n"
    }
   }
  },
  {
   "cell_type": "code",
   "execution_count": 7,
   "outputs": [
    {
     "data": {
      "text/plain": "2015-07-03    45441\n2015-07-02    45394\n2015-07-01    44163\n2015-07-04    43804\n2015-07-08    39933\n2015-07-05    39932\n2015-07-07    33930\n2015-07-06    33311\nName: date, dtype: int64"
     },
     "execution_count": 7,
     "metadata": {},
     "output_type": "execute_result"
    }
   ],
   "source": [
    "# 閲覧履歴の期間とその商品閲覧数のばらつきを確認\n",
    "log_df['date'].value_counts()"
   ],
   "metadata": {
    "collapsed": false,
    "pycharm": {
     "name": "#%%\n"
    }
   }
  },
  {
   "cell_type": "code",
   "execution_count": 22,
   "outputs": [
    {
     "data": {
      "text/plain": "<AxesSubplot:>"
     },
     "execution_count": 22,
     "metadata": {},
     "output_type": "execute_result"
    },
    {
     "data": {
      "text/plain": "<Figure size 432x288 with 1 Axes>",
      "image/png": "[encoded data removed]"
     },
     "metadata": {
      "needs_background": "light"
     },
     "output_type": "display_data"
    }
   ],
   "source": [
    "log_df['date'].hist(bins=8)"
   ],
   "metadata": {
    "collapsed": false,
    "pycharm": {
     "name": "#%%\n"
    }
   }
  },
  {
   "cell_type": "markdown",
   "source": [
    "##### Data の概要\n",
    "この Data は、EC mall の Tmall の閲覧履歴。\n",
    "- 期間: 2015年07月01日 ~ 2015年07月08日までの８日間の Data.\n",
    "- User数: 約３万人\n",
    "- 期間内に閲覧された商品数: 約９万点\n",
    "- User あたりの閲覧数: おおよそ５回\n",
    "- 商品あたりの閲覧数: おおよそ２回"
   ],
   "metadata": {
    "collapsed": false,
    "pycharm": {
     "name": "#%% md\n"
    }
   }
  }
 ],
 "metadata": {
  "kernelspec": {
   "display_name": "Python 3",
   "language": "python",
   "name": "python3"
  },
  "language_info": {
   "codemirror_mode": {
    "name": "ipython",
    "version": 2
   },
   "file_extension": ".py",
   "mimetype": "text/x-python",
   "name": "python",
   "nbconvert_exporter": "python",
   "pygments_lexer": "ipython2",
   "version": "2.7.6"
  }
 },
 "nbformat": 4,
 "nbformat_minor": 0
}