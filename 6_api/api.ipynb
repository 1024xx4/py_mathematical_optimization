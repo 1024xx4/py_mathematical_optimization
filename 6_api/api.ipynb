{
 "cells": [
  {
   "cell_type": "markdown",
   "source": [
    "### Circle における学生の乗車 Group 分け問題"
   ],
   "metadata": {
    "collapsed": false,
    "pycharm": {
     "name": "#%% md\n"
    }
   }
  },
  {
   "cell_type": "markdown",
   "source": [
    "#### 課題整理\n",
    "「学生をどの車に割り当てるかを決定する」ので, **「0-1 整数計画問題」** となる\n",
    "\n",
    "- 学生の乗車 Group 分け問題\n",
    "    1. 学生をどの車に割り当てるかを決定する\n",
    "- 旅行に行くための法規制に関する制約\n",
    "    2. 乗車人数は定員を超えてはいけない\n",
    "    3. 運転免許証を持つ学生を１人以上、車に割り当てる\n",
    "- 懇親を目的とした制約\n",
    "    4. 各学年の学生を１人以上、車に割り当てる\n",
    "- Gender Balance を考慮した制約\n",
    "    5. 男女それぞれ１人以上を車に割り当てる\n"
   ],
   "metadata": {
    "collapsed": false,
    "pycharm": {
     "name": "#%% md\n"
    }
   }
  },
  {
   "cell_type": "markdown",
   "source": [
    "###### Topick\n",
    "**0-1 整数計画問題**\n",
    "変数が 0 か 1 をとる問題"
   ],
   "metadata": {
    "collapsed": false,
    "pycharm": {
     "name": "#%% md\n"
    }
   }
  },
  {
   "cell_type": "code",
   "execution_count": null,
   "outputs": [],
   "source": [],
   "metadata": {
    "collapsed": false,
    "pycharm": {
     "name": "#%%\n"
    }
   }
  }
 ],
 "metadata": {
  "kernelspec": {
   "display_name": "Python 3",
   "language": "python",
   "name": "python3"
  },
  "language_info": {
   "codemirror_mode": {
    "name": "ipython",
    "version": 2
   },
   "file_extension": ".py",
   "mimetype": "text/x-python",
   "name": "python",
   "nbconvert_exporter": "python",
   "pygments_lexer": "ipython2",
   "version": "2.7.6"
  }
 },
 "nbformat": 4,
 "nbformat_minor": 0
}