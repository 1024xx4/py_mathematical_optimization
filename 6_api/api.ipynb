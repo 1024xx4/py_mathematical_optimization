{
 "cells": [
  {
   "cell_type": "markdown",
   "source": [
    "### Circle における学生の乗車 Group 分け問題"
   ],
   "metadata": {
    "collapsed": false,
    "pycharm": {
     "name": "#%% md\n"
    }
   }
  },
  {
   "cell_type": "markdown",
   "source": [
    "#### 課題整理\n",
    "「学生をどの車に割り当てるかを決定する」ので, **「0-1 整数計画問題」** となる\n",
    "\n",
    "- 学生の乗車 Group 分け問題\n",
    "    1. 学生をどの車に割り当てるかを決定する\n",
    "- 旅行に行くための法規制に関する制約\n",
    "    2. 乗車人数は定員を超えてはいけない\n",
    "    3. 運転免許証を持つ学生を１人以上、車に割り当てる\n",
    "- 懇親を目的とした制約\n",
    "    4. 各学年の学生を１人以上、車に割り当てる\n",
    "- Gender Balance を考慮した制約\n",
    "    5. 男女それぞれ１人以上を車に割り当てる\n"
   ],
   "metadata": {
    "collapsed": false,
    "pycharm": {
     "name": "#%% md\n"
    }
   }
  },
  {
   "cell_type": "markdown",
   "source": [
    "###### Topick\n",
    "**0-1 整数計画問題**\n",
    "変数が 0 か 1 をとる問題"
   ],
   "metadata": {
    "collapsed": false,
    "pycharm": {
     "name": "#%% md\n"
    }
   }
  },
  {
   "cell_type": "code",
   "execution_count": 1,
   "outputs": [
    {
     "name": "stdout",
     "output_type": "stream",
     "text": [
      "(24, 4)\n"
     ]
    }
   ],
   "source": [
    "import pandas as pd  # Data を読み込み、操作するための Library\n",
    "\n",
    "students_df = pd.read_csv('resource/students.csv')\n",
    "print(students_df.shape)  # Data の行数、列数を確認"
   ],
   "metadata": {
    "collapsed": false,
    "pycharm": {
     "name": "#%%\n"
    }
   }
  },
  {
   "cell_type": "code",
   "execution_count": 2,
   "outputs": [
    {
     "data": {
      "text/plain": "   student_id  license  gender  grade\n0           0        0       0      1\n1           1        1       1      2\n2           2        1       0      3\n3           3        1       1      4\n4           4        0       1      1",
      "text/html": "<div>\n<style scoped>\n    .dataframe tbody tr th:only-of-type {\n        vertical-align: middle;\n    }\n\n    .dataframe tbody tr th {\n        vertical-align: top;\n    }\n\n    .dataframe thead th {\n        text-align: right;\n    }\n</style>\n<table border=\"1\" class=\"dataframe\">\n  <thead>\n    <tr style=\"text-align: right;\">\n      <th></th>\n      <th>student_id</th>\n      <th>license</th>\n      <th>gender</th>\n      <th>grade</th>\n    </tr>\n  </thead>\n  <tbody>\n    <tr>\n      <th>0</th>\n      <td>0</td>\n      <td>0</td>\n      <td>0</td>\n      <td>1</td>\n    </tr>\n    <tr>\n      <th>1</th>\n      <td>1</td>\n      <td>1</td>\n      <td>1</td>\n      <td>2</td>\n    </tr>\n    <tr>\n      <th>2</th>\n      <td>2</td>\n      <td>1</td>\n      <td>0</td>\n      <td>3</td>\n    </tr>\n    <tr>\n      <th>3</th>\n      <td>3</td>\n      <td>1</td>\n      <td>1</td>\n      <td>4</td>\n    </tr>\n    <tr>\n      <th>4</th>\n      <td>4</td>\n      <td>0</td>\n      <td>1</td>\n      <td>1</td>\n    </tr>\n  </tbody>\n</table>\n</div>"
     },
     "execution_count": 2,
     "metadata": {},
     "output_type": "execute_result"
    }
   ],
   "source": [
    "# 上位 5 件を表示\n",
    "students_df.head()"
   ],
   "metadata": {
    "collapsed": false,
    "pycharm": {
     "name": "#%%\n"
    }
   }
  },
  {
   "cell_type": "markdown",
   "source": [
    "Column | 名称 | 説明\n",
    "--- | --- | ---\n",
    "student_id | 学生 ID | 0 ~ 23 の間で Unique な整数値をとる\n",
    "license | 運転免許証有無 | 0: 未所持, 1: 所持\n",
    "gender | 性別 | 0: 男性, 1: 女性\n",
    "grade | 学年 | 1 ~ 4 の整数値をとる"
   ],
   "metadata": {
    "collapsed": false,
    "pycharm": {
     "name": "#%% md\n"
    }
   }
  },
  {
   "cell_type": "code",
   "execution_count": 3,
   "outputs": [
    {
     "name": "stdout",
     "output_type": "stream",
     "text": [
      "(6, 2)\n"
     ]
    }
   ],
   "source": [
    "cars_df = pd.read_csv('resource/cars.csv')\n",
    "print(cars_df.shape)  # Data の行数, 列数を確認"
   ],
   "metadata": {
    "collapsed": false,
    "pycharm": {
     "name": "#%%\n"
    }
   }
  },
  {
   "cell_type": "code",
   "execution_count": 4,
   "outputs": [
    {
     "data": {
      "text/plain": "   car_id  capacity\n0       0         6\n1       1         6\n2       2         5\n3       3         4\n4       4         5\n5       5         5",
      "text/html": "<div>\n<style scoped>\n    .dataframe tbody tr th:only-of-type {\n        vertical-align: middle;\n    }\n\n    .dataframe tbody tr th {\n        vertical-align: top;\n    }\n\n    .dataframe thead th {\n        text-align: right;\n    }\n</style>\n<table border=\"1\" class=\"dataframe\">\n  <thead>\n    <tr style=\"text-align: right;\">\n      <th></th>\n      <th>car_id</th>\n      <th>capacity</th>\n    </tr>\n  </thead>\n  <tbody>\n    <tr>\n      <th>0</th>\n      <td>0</td>\n      <td>6</td>\n    </tr>\n    <tr>\n      <th>1</th>\n      <td>1</td>\n      <td>6</td>\n    </tr>\n    <tr>\n      <th>2</th>\n      <td>2</td>\n      <td>5</td>\n    </tr>\n    <tr>\n      <th>3</th>\n      <td>3</td>\n      <td>4</td>\n    </tr>\n    <tr>\n      <th>4</th>\n      <td>4</td>\n      <td>5</td>\n    </tr>\n    <tr>\n      <th>5</th>\n      <td>5</td>\n      <td>5</td>\n    </tr>\n  </tbody>\n</table>\n</div>"
     },
     "execution_count": 4,
     "metadata": {},
     "output_type": "execute_result"
    }
   ],
   "source": [
    "cars_df"
   ],
   "metadata": {
    "collapsed": false,
    "pycharm": {
     "name": "#%%\n"
    }
   }
  },
  {
   "cell_type": "markdown",
   "source": [
    "Column | 名称 | 説明\n",
    "--- | --- | ---\n",
    "car_id | 車 ID | 0~5 の間で Unique な整数値をとる\n",
    "capacity | 乗車定員 | 4, 5, 6 の整数値をとる"
   ],
   "metadata": {
    "collapsed": false,
    "pycharm": {
     "name": "#%% md\n"
    }
   }
  },
  {
   "cell_type": "markdown",
   "source": [
    "#### 数理 Modeling\n",
    "![数理 Modeling](mathematical_modeling.png)"
   ],
   "metadata": {
    "collapsed": false,
    "pycharm": {
     "name": "#%% md\n"
    }
   }
  },
  {
   "cell_type": "markdown",
   "source": [
    "- 入力: students.csv と cars.csv から得られる List と定数\n",
    "- 出力: 各学生 *s* が どの車 *c* に乗ればよいかを表す変数 *x_sc*"
   ],
   "metadata": {
    "collapsed": false,
    "pycharm": {
     "name": "#%% md\n"
    }
   }
  },
  {
   "cell_type": "markdown",
   "source": [
    "### 数理 Model の実装"
   ],
   "metadata": {
    "collapsed": false,
    "pycharm": {
     "name": "#%% md\n"
    }
   }
  },
  {
   "cell_type": "code",
   "execution_count": 5,
   "outputs": [],
   "source": [
    "import pandas as pd\n",
    "import pulp\n",
    "\n",
    "students_df = pd.read_csv('resource/students.csv')\n",
    "cars_df = pd.read_csv('resource/cars.csv')\n",
    "\n",
    "# 学生の乗車 Group 分け問題（0-1 整数計画問題）の Instance 作成\n",
    "prob = pulp.LpProblem('ClubCarProblem', pulp.LpMinimize)"
   ],
   "metadata": {
    "collapsed": false,
    "pycharm": {
     "name": "#%%\n"
    }
   }
  },
  {
   "cell_type": "code",
   "execution_count": 6,
   "outputs": [],
   "source": [
    "# List\n",
    "S = students_df['student_id'].to_list()  # 学生の List\n",
    "C = cars_df['car_id'].to_list()  # 車の List\n",
    "G = [1, 2, 3, 4]  # 学年の List\n",
    "SC = [(s, c) for s in S for c in C]  # 学生の車の Pair の List\n",
    "S_license = students_df[students_df['license'] == 1]['student_id']  # 免許を持っている学生の List\n",
    "S_g = {g: students_df[students_df['grade'] == g]['student_id'] for g in G}  # 学年が g の学生の List\n",
    "S_male = students_df[students_df['gender'] == 0]['student_id']\n",
    "S_female = students_df[students_df['gender'] == 1]['student_id']"
   ],
   "metadata": {
    "collapsed": false,
    "pycharm": {
     "name": "#%%\n"
    }
   }
  },
  {
   "cell_type": "code",
   "execution_count": 7,
   "outputs": [],
   "source": [
    "# 定数\n",
    "# 車の乗車定員の定数\n",
    "U = cars_df['capacity'].to_list()"
   ],
   "metadata": {
    "collapsed": false,
    "pycharm": {
     "name": "#%%\n"
    }
   }
  },
  {
   "cell_type": "code",
   "execution_count": 8,
   "outputs": [],
   "source": [
    "# 変数\n",
    "# 学生をどの車に割り当てるかを変数として定義\n",
    "x = pulp.LpVariable.dicts('x', SC, cat='Binary')"
   ],
   "metadata": {
    "collapsed": false,
    "pycharm": {
     "name": "#%%\n"
    }
   }
  },
  {
   "cell_type": "code",
   "execution_count": 9,
   "outputs": [],
   "source": [
    "# 制約\n",
    "# 1. 各学生を１つの車に割り当てる\n",
    "for s in S:\n",
    "    prob += pulp.lpSum([x[s, c] for c in C]) == 1\n",
    "\n",
    "# 2. 法規制に関する制約: 各車には乗車定員より多く乗ることができない\n",
    "for c in C:\n",
    "    prob += pulp.lpSum([x[s, c] for s in S]) <= U[c]\n",
    "\n",
    "# 3. 法規制に関する制約: 各車に Driver を１人以上割り当てる\n",
    "for c in C:\n",
    "    prob += pulp.lpSum([x[s, c] for s in S_license]) >= 1\n",
    "\n",
    "# 4. 懇親を目的とした制約: 各車に各学年の学生を１人以上割り当てる\n",
    "for c in C:\n",
    "    for g in G:\n",
    "        prob += pulp.lpSum([x[s, c] for s in S_g[g]]) >= 1\n",
    "\n",
    "# 5. Gender balance を考慮した制約: 各車に男性を１人以上割り当てる\n",
    "for c in C:\n",
    "    prob += pulp.lpSum([x[s, c] for s in S_male]) >= 1\n",
    "\n",
    "# 6. Gender balance を考慮した制約: 各車に女性を１人以上割り当てる\n",
    "for c in C:\n",
    "    prob += pulp.lpSum([x[s, c] for s in S_female]) >= 1"
   ],
   "metadata": {
    "collapsed": false,
    "pycharm": {
     "name": "#%%\n"
    }
   }
  },
  {
   "cell_type": "markdown",
   "source": [
    "### 問題を解く"
   ],
   "metadata": {
    "collapsed": false,
    "pycharm": {
     "name": "#%% md\n"
    }
   }
  },
  {
   "cell_type": "code",
   "execution_count": 10,
   "outputs": [
    {
     "name": "stdout",
     "output_type": "stream",
     "text": [
      "Welcome to the CBC MILP Solver \n",
      "Version: 2.10.3 \n",
      "Build Date: Dec 15 2019 \n",
      "\n",
      "command line - /home/tera/.local/share/virtualenvs/PyMathematicalOptimization-moAdKnc7/lib/python3.10/site-packages/pulp/apis/../solverdir/cbc/linux/64/cbc /tmp/2d863d9dafb94821ab041fed3c495330-pulp.mps timeMode elapsed branch printingOptions all solution /tmp/2d863d9dafb94821ab041fed3c495330-pulp.sol (default strategy 1)\n",
      "At line 2 NAME          MODEL\n",
      "At line 3 ROWS\n",
      "At line 77 COLUMNS\n",
      "At line 1039 RHS\n",
      "At line 1112 BOUNDS\n",
      "At line 1258 ENDATA\n",
      "Problem MODEL has 72 rows, 145 columns and 672 elements\n",
      "Coin0008I MODEL read with 0 errors\n",
      "Option for timeMode changed from cpu to elapsed\n",
      "Continuous objective value is 0 - 0.00 seconds\n",
      "Cgl0005I 24 SOS with 144 members\n",
      "Cgl0004I processed model has 72 rows, 144 columns (144 integer (144 of which binary)) and 672 elements\n",
      "Cbc0038I Initial state - 29 integers unsatisfied sum - 8.8\n",
      "Cbc0038I Pass   1: suminf.    0.00000 (0) obj. 0 iterations 30\n",
      "Cbc0038I Solution found of 0\n",
      "Cbc0038I Before mini branch and bound, 114 integers at bound fixed and 0 continuous\n",
      "Cbc0038I Mini branch and bound did not improve solution (0.01 seconds)\n",
      "Cbc0038I After 0.01 seconds - Feasibility pump exiting with objective of 0 - took 0.00 seconds\n",
      "Cbc0012I Integer solution of 0 found by feasibility pump after 0 iterations and 0 nodes (0.01 seconds)\n",
      "Cbc0001I Search completed - best objective 0, took 0 iterations and 0 nodes (0.01 seconds)\n",
      "Cbc0035I Maximum depth 0, 0 variables fixed on reduced cost\n",
      "Cuts at root node changed objective from 0 to 0\n",
      "Probing was tried 0 times and created 0 cuts of which 0 were active after adding rounds of cuts (0.000 seconds)\n",
      "Gomory was tried 0 times and created 0 cuts of which 0 were active after adding rounds of cuts (0.000 seconds)\n",
      "Knapsack was tried 0 times and created 0 cuts of which 0 were active after adding rounds of cuts (0.000 seconds)\n",
      "Clique was tried 0 times and created 0 cuts of which 0 were active after adding rounds of cuts (0.000 seconds)\n",
      "MixedIntegerRounding2 was tried 0 times and created 0 cuts of which 0 were active after adding rounds of cuts (0.000 seconds)\n",
      "FlowCover was tried 0 times and created 0 cuts of which 0 were active after adding rounds of cuts (0.000 seconds)\n",
      "TwoMirCuts was tried 0 times and created 0 cuts of which 0 were active after adding rounds of cuts (0.000 seconds)\n",
      "ZeroHalf was tried 0 times and created 0 cuts of which 0 were active after adding rounds of cuts (0.000 seconds)\n",
      "\n",
      "Result - Optimal solution found\n",
      "\n",
      "Objective value:                0.00000000\n",
      "Enumerated nodes:               0\n",
      "Total iterations:               0\n",
      "Time (CPU seconds):             0.01\n",
      "Time (Wallclock seconds):       0.01\n",
      "\n",
      "Option for printingOptions changed from normal to all\n",
      "Total time (CPU seconds):       0.01   (Wallclock seconds):       0.01\n",
      "\n",
      "Status: Optimal\n"
     ]
    }
   ],
   "source": [
    "# 求解\n",
    "status = prob.solve()\n",
    "print('Status:', pulp.LpStatus[status])"
   ],
   "metadata": {
    "collapsed": false,
    "pycharm": {
     "name": "#%%\n"
    }
   }
  },
  {
   "cell_type": "code",
   "execution_count": 11,
   "outputs": [
    {
     "name": "stdout",
     "output_type": "stream",
     "text": [
      "車 ID: 0\n",
      "学生数(乗車定員): 4(6)\n",
      "学生: [6, 7, 8, 9]\n",
      "\n",
      "車 ID: 1\n",
      "学生数(乗車定員): 4(6)\n",
      "学生: [4, 18, 21, 23]\n",
      "\n",
      "車 ID: 2\n",
      "学生数(乗車定員): 4(5)\n",
      "学生: [5, 19, 20, 22]\n",
      "\n",
      "車 ID: 3\n",
      "学生数(乗車定員): 4(4)\n",
      "学生: [3, 10, 13, 16]\n",
      "\n",
      "車 ID: 4\n",
      "学生数(乗車定員): 4(5)\n",
      "学生: [0, 2, 11, 17]\n",
      "\n",
      "車 ID: 5\n",
      "学生数(乗車定員): 4(5)\n",
      "学生: [1, 12, 14, 15]\n",
      "\n"
     ]
    }
   ],
   "source": [
    "# 最適化結果の表示\n",
    "# 各車に割り当てられている学生の List を辞書に格納（車 ID -> 割り当てられた学生の List）\n",
    "car2students = {c: [s for s in S if x[s, c].value() == 1] for c in C}\n",
    "\n",
    "# 各車の乗車定員（車 ID -> 乗車定員）\n",
    "max_people = dict(zip(cars_df['car_id'], cars_df['capacity']))\n",
    "\n",
    "for c, ss in car2students.items():\n",
    "    print(f\"車 ID: {c}\")\n",
    "    print(f\"学生数(乗車定員): {len(ss)}({max_people[c]})\")\n",
    "    print(f\"学生: {ss}\\n\")"
   ],
   "metadata": {
    "collapsed": false,
    "pycharm": {
     "name": "#%%\n"
    }
   }
  },
  {
   "cell_type": "markdown",
   "source": [
    "#### Python から API に request を投げる"
   ],
   "metadata": {
    "collapsed": false,
    "pycharm": {
     "name": "#%% md\n"
    }
   }
  },
  {
   "cell_type": "code",
   "execution_count": 12,
   "outputs": [],
   "source": [
    "import requests\n",
    "\n",
    "# API の Endpoint\n",
    "url = 'http://127.0.0.1:5000/api'\n",
    "# Request で渡す Data\n",
    "files = {\n",
    "    'students': open('resource/students.csv', 'r'),\n",
    "    'cars': open('resource/cars.csv', 'r')\n",
    "}\n",
    "# POST request\n",
    "response = requests.post(url, files=files)\n",
    "# 結果の保存（`response.text` で Response 内容に access 可能）\n",
    "with open('resource/solution_requests.csv', 'w') as f:\n",
    "    f.write(response.text)"
   ],
   "metadata": {
    "collapsed": false,
    "pycharm": {
     "name": "#%%\n"
    }
   }
  },
  {
   "cell_type": "code",
   "execution_count": null,
   "outputs": [],
   "source": [],
   "metadata": {
    "collapsed": false,
    "pycharm": {
     "name": "#%%\n"
    }
   }
  }
 ],
 "metadata": {
  "kernelspec": {
   "display_name": "Python 3",
   "language": "python",
   "name": "python3"
  },
  "language_info": {
   "codemirror_mode": {
    "name": "ipython",
    "version": 2
   },
   "file_extension": ".py",
   "mimetype": "text/x-python",
   "name": "python",
   "nbconvert_exporter": "python",
   "pygments_lexer": "ipython2",
   "version": "2.7.6"
  }
 },
 "nbformat": 4,
 "nbformat_minor": 0
}